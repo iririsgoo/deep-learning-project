{
 "cells": [
  {
   "cell_type": "markdown",
   "metadata": {},
   "source": [
    "## Getting the Code & Data"
   ]
  },
  {
   "cell_type": "code",
   "execution_count": null,
   "metadata": {},
   "outputs": [],
   "source": [
    "!git clone https://github.com/locuslab/SATNet\n",
    "%cd SATNet\n",
    "!python setup.py develop > install.log 2>&1"
   ]
  },
  {
   "cell_type": "code",
   "execution_count": null,
   "metadata": {},
   "outputs": [],
   "source": [
    "!wget -cq powei.tw/sudoku.zip && unzip -qq sudoku.zip\n",
    "!wget -cq powei.tw/parity.zip && unzip -qq parity.zip"
   ]
  },
  {
   "cell_type": "markdown",
   "metadata": {},
   "source": [
    "## Data Preprocessing"
   ]
  },
  {
   "cell_type": "code",
   "execution_count": null,
   "metadata": {},
   "outputs": [],
   "source": [
    "import pandas as pd\n",
    "\n",
    "df = pd.read_csv(\"sudoku.csv\")\n",
    "df.head()"
   ]
  },
  {
   "cell_type": "code",
   "execution_count": null,
   "metadata": {},
   "outputs": [],
   "source": [
    "indices = df.Index.unique()"
   ]
  },
  {
   "cell_type": "code",
   "execution_count": null,
   "metadata": {},
   "outputs": [],
   "source": [
    "df.values"
   ]
  },
  {
   "cell_type": "code",
   "execution_count": null,
   "metadata": {},
   "outputs": [],
   "source": [
    "import torch\n",
    "import numpy as np\n",
    "\n",
    "rule_matrices = []\n",
    "order_matrices = []"
   ]
  },
  {
   "cell_type": "code",
   "execution_count": null,
   "metadata": {},
   "outputs": [],
   "source": [
    "# create order matrices\n",
    "for index in indices:\n",
    "    # initialize empty matrix to fill\n",
    "    current_orders = np.zeros([9,9])\n",
    "    # get current sudoku board data\n",
    "    current_sudoku = df[df['Index'] == index].values\n",
    "    # iterate through each \"move\"\n",
    "    for point in current_sudoku:\n",
    "        # assign the order number to correct spot\n",
    "        current_orders[point[2], point[3]] = point[1]\n",
    "    # add to overall array\n",
    "    order_matrices.append(current_orders)"
   ]
  },
  {
   "cell_type": "code",
   "execution_count": null,
   "metadata": {},
   "outputs": [],
   "source": [
    "# create order matrices\n",
    "for index in indices:\n",
    "    current_rule = np.zeros([9,9])\n",
    "    current_sudoku = df[df['Index'] == index].values\n",
    "    for point in current_sudoku:\n",
    "        current_rule[point[2], point[3]] = point[4]\n",
    "    rule_matrices.append(current_rule)"
   ]
  },
  {
   "cell_type": "code",
   "execution_count": null,
   "metadata": {},
   "outputs": [],
   "source": [
    "# convert to torch tensors \n",
    "final_orders = torch.tensor(order_matrices)\n",
    "final_rules = torch.tensor(rule_matrices)"
   ]
  },
  {
   "cell_type": "code",
   "execution_count": null,
   "metadata": {},
   "outputs": [],
   "source": []
  },
  {
   "cell_type": "code",
   "execution_count": null,
   "metadata": {},
   "outputs": [],
   "source": []
  },
  {
   "cell_type": "code",
   "execution_count": null,
   "metadata": {},
   "outputs": [],
   "source": []
  },
  {
   "cell_type": "code",
   "execution_count": null,
   "metadata": {},
   "outputs": [],
   "source": [
    "import os\n",
    "import shutil\n",
    "import argparse\n",
    "from collections import namedtuple\n",
    "\n",
    "import numpy as np\n",
    "import numpy.random as npr\n",
    "\n",
    "import torch\n",
    "import torch.nn as nn\n",
    "import torch.optim as optim\n",
    "import torch.nn.functional as F\n",
    "from torch.utils.data import TensorDataset, DataLoader\n",
    "\n",
    "import matplotlib.pyplot as plt\n",
    "from IPython.display import display, Markdown, Latex, clear_output\n",
    "import tqdm"
   ]
  },
  {
   "cell_type": "code",
   "execution_count": null,
   "metadata": {},
   "outputs": [],
   "source": [
    "if not torch.cuda.is_available(): \n",
    "    print('[WARNING] Not using GPU.')\n",
    "    print('Please select \"Runtime -> Change runtime type\" and switch to GPU for better performance')\n",
    "else:\n",
    "    print('Using', torch.cuda.get_device_name(0))"
   ]
  },
  {
   "cell_type": "code",
   "execution_count": null,
   "metadata": {},
   "outputs": [],
   "source": [
    "import satnet\n",
    "print('SATNet document\\n', satnet.SATNet.__doc__)"
   ]
  },
  {
   "cell_type": "code",
   "execution_count": null,
   "metadata": {},
   "outputs": [],
   "source": [
    "class SudokuSolver(nn.Module):\n",
    "    def __init__(self, boardSz, aux, m):\n",
    "        super(SudokuSolver, self).__init__()\n",
    "        n = boardSz**6\n",
    "        self.sat = satnet.SATNet(n, m, aux)\n",
    "\n",
    "    def forward(self, y_in, mask):\n",
    "        out = self.sat(y_in, mask)\n",
    "        del y_in, mask\n",
    "        return out"
   ]
  },
  {
   "cell_type": "code",
   "execution_count": null,
   "metadata": {},
   "outputs": [],
   "source": [
    "class DigitConv(nn.Module):\n",
    "    '''\n",
    "    Convolutional neural network for MNIST digit recognition. From:\n",
    "    https://github.com/pytorch/examples/blob/master/mnist/main.py\n",
    "    '''\n",
    "    def __init__(self):\n",
    "        super(DigitConv, self).__init__()\n",
    "        self.conv1 = nn.Conv2d(1, 20, 5, 1)\n",
    "        self.conv2 = nn.Conv2d(20, 50, 5, 1)\n",
    "        self.fc1 = nn.Linear(4*4*50, 500)\n",
    "        self.fc2 = nn.Linear(500, 10)\n",
    "\n",
    "    def forward(self, x):\n",
    "        x = F.relu(self.conv1(x))\n",
    "        x = F.max_pool2d(x, 2, 2)\n",
    "        x = F.relu(self.conv2(x))\n",
    "        x = F.max_pool2d(x, 2, 2)\n",
    "        x = x.view(-1, 4*4*50)\n",
    "        x = F.relu(self.fc1(x))\n",
    "        x = self.fc2(x)\n",
    "        return F.softmax(x, dim=1)[:,:9].contiguous()"
   ]
  },
  {
   "cell_type": "code",
   "execution_count": null,
   "metadata": {},
   "outputs": [],
   "source": [
    "class MNISTSudokuSolver(nn.Module):\n",
    "    def __init__(self, boardSz, aux, m):\n",
    "        super(MNISTSudokuSolver, self).__init__()\n",
    "        self.digit_convnet = DigitConv()\n",
    "        self.sudoku_solver = SudokuSolver(boardSz, aux, m)\n",
    "        self.boardSz = boardSz\n",
    "        self.nSq = boardSz**2\n",
    "    \n",
    "    def forward(self, x, is_inputs):\n",
    "        nBatch = x.shape[0]\n",
    "        x = x.flatten(start_dim = 0, end_dim = 1)\n",
    "        digit_guess = self.digit_convnet(x)\n",
    "        puzzles = digit_guess.view(nBatch, self.nSq * self.nSq * self.nSq)\n",
    "\n",
    "        solution = self.sudoku_solver(puzzles, is_inputs)\n",
    "        return solution"
   ]
  },
  {
   "cell_type": "code",
   "execution_count": null,
   "metadata": {},
   "outputs": [],
   "source": [
    "from exps.sudoku import train, test, FigLogger, find_unperm\n",
    "args_dict = {'lr': 2e-3, \n",
    "             'cuda': torch.cuda.is_available(), \n",
    "             'batchSz': 40,\n",
    "             'mnistBatchSz': 50,\n",
    "             'boardSz': 3, # for 9x9 Sudoku\n",
    "             'm': 600,\n",
    "             'aux': 300,\n",
    "             'nEpoch': 20\n",
    "            }\n",
    "args = namedtuple('Args', args_dict.keys())(*args_dict.values())"
   ]
  },
  {
   "cell_type": "code",
   "execution_count": null,
   "metadata": {},
   "outputs": [],
   "source": [
    "def process_inputs(X, Ximg, Y, boardSz):\n",
    "    is_input = X.sum(dim=3, keepdim=True).expand_as(X).int().sign()\n",
    "\n",
    "    Ximg = Ximg.flatten(start_dim=1, end_dim=2)\n",
    "    Ximg = Ximg.unsqueeze(2).float()\n",
    "\n",
    "    X      = X.view(X.size(0), -1)\n",
    "    Y      = Y.view(Y.size(0), -1)\n",
    "    is_input = is_input.view(is_input.size(0), -1)\n",
    "\n",
    "    return X, Ximg, Y, is_input"
   ]
  },
  {
   "cell_type": "code",
   "execution_count": null,
   "metadata": {},
   "outputs": [],
   "source": [
    "with open('sudoku/features.pt', 'rb') as f:\n",
    "    X_in = torch.load(f)\n",
    "with open('sudoku/features_img.pt', 'rb') as f:\n",
    "    Ximg_in = torch.load(f)\n",
    "with open('sudoku/labels.pt', 'rb') as f:\n",
    "    Y_in = torch.load(f)\n",
    "with open('sudoku/perm.pt', 'rb') as f:\n",
    "    perm = torch.load(f)"
   ]
  },
  {
   "cell_type": "code",
   "execution_count": null,
   "metadata": {},
   "outputs": [],
   "source": [
    "X, Ximg, Y, is_input = process_inputs(X_in, Ximg_in, Y_in, args.boardSz)\n",
    "if args.cuda: X, Ximg, is_input, Y = X.cuda(), Ximg.cuda(), is_input.cuda(), Y.cuda()\n",
    "\n",
    "N = X_in.size(0)\n",
    "nTrain = int(N*0.9)\n",
    "print(nTrain)"
   ]
  },
  {
   "cell_type": "code",
   "execution_count": null,
   "metadata": {},
   "outputs": [],
   "source": [
    "sudoku_train = TensorDataset(X[:nTrain], is_input[:nTrain], Y[:nTrain])\n",
    "sudoku_test =  TensorDataset(X[nTrain:], is_input[nTrain:], Y[nTrain:])\n",
    "perm_train = TensorDataset(X[:nTrain,perm], is_input[:nTrain,perm], Y[:nTrain,perm])\n",
    "perm_test =  TensorDataset(X[nTrain:,perm], is_input[nTrain:,perm], Y[nTrain:,perm])\n",
    "mnist_train = TensorDataset(Ximg[:nTrain], is_input[:nTrain], Y[:nTrain])\n",
    "mnist_test =  TensorDataset(Ximg[nTrain:], is_input[nTrain:], Y[nTrain:])"
   ]
  },
  {
   "cell_type": "code",
   "execution_count": null,
   "metadata": {},
   "outputs": [],
   "source": [
    "def show_sudoku(raw):\n",
    "    return (torch.argmax(raw,2)+1)*(raw.sum(2).long())"
   ]
  },
  {
   "cell_type": "code",
   "execution_count": null,
   "metadata": {},
   "outputs": [],
   "source": [
    "def show_mnist_sudoku(raw):\n",
    "    A = raw.numpy()\n",
    "    digits = np.concatenate(np.concatenate(A,axis=1), axis=1).astype(np.uint8)\n",
    "    linewidth = 2\n",
    "    board = np.zeros((digits.shape[0]+linewidth*4, digits.shape[1]+linewidth*4), dtype=np.uint8)\n",
    "    gridwidth = digits.shape[0]//3\n",
    "\n",
    "    board[:] = 255\n",
    "    for i in range(3):\n",
    "        for j in range(3):\n",
    "            xoff = linewidth+(linewidth+gridwidth)*i\n",
    "            yoff = linewidth+(linewidth+gridwidth)*j\n",
    "            xst = gridwidth*i\n",
    "            yst = gridwidth*j\n",
    "            board[xoff:xoff+gridwidth, yoff:yoff+gridwidth] = digits[xst:xst+gridwidth, yst:yst+gridwidth]\n",
    "\n",
    "    #img = Image.fromarray(255-board)\n",
    "    plt.imshow(255-board, cmap='gray')"
   ]
  },
  {
   "cell_type": "code",
   "execution_count": null,
   "metadata": {},
   "outputs": [],
   "source": [
    "def showw(raw):\n",
    "    i =- 1\n",
    "    j =- 1\n",
    "    res = torch.empty(9,9)\n",
    "    for k in range(729):\n",
    "        if k%81 == 0:\n",
    "            i += 1\n",
    "        if k%9 == 0:\n",
    "            j = (j+1) % 9\n",
    "            h1 = k%9\n",
    "            h2 = raw[k].item()\n",
    "        if raw[k].item() > h2:\n",
    "            h2 = raw[k].item()\n",
    "            h1 = k%9\n",
    "        if k%9 == 8:\n",
    "            res[i][j] = h1+1\n",
    "    return res"
   ]
  },
  {
   "cell_type": "code",
   "execution_count": null,
   "metadata": {},
   "outputs": [],
   "source": [
    "sudoku_model = SudokuSolver(args.boardSz, args.aux, args.m)\n",
    "if args.cuda: sudoku_model = sudoku_model.cuda()"
   ]
  },
  {
   "cell_type": "code",
   "execution_count": null,
   "metadata": {},
   "outputs": [],
   "source": [
    "plt.ioff()\n",
    "optimizer = optim.Adam(sudoku_model.parameters(), lr=args.lr)\n",
    "\n",
    "fig, axes = plt.subplots(1,2, figsize=(10,4))\n",
    "plt.subplots_adjust(wspace=0.4)\n",
    "train_logger = FigLogger(fig, axes[0], 'Traininig')\n",
    "test_logger = FigLogger(fig, axes[1], 'Testing')"
   ]
  },
  {
   "cell_type": "code",
   "execution_count": null,
   "metadata": {},
   "outputs": [],
   "source": [
    "test(args.boardSz, 0, sudoku_model, optimizer, test_logger, sudoku_test, args.batchSz)\n",
    "plt.pause(0.01)"
   ]
  },
  {
   "cell_type": "code",
   "execution_count": null,
   "metadata": {},
   "outputs": [],
   "source": [
    "for epoch in range(1, args.nEpoch+1):\n",
    "    train(args.boardSz, epoch, sudoku_model, optimizer, train_logger, sudoku_train, args.batchSz)\n",
    "    test(args.boardSz, epoch, sudoku_model, optimizer, test_logger, sudoku_test, args.batchSz)\n",
    "    display(fig)\n",
    "    aa=X[9000:9040]\n",
    "    bb=is_input[9000:9040]\n",
    "    print(showw(sudoku_model.forward(aa,bb)[0]))"
   ]
  },
  {
   "cell_type": "code",
   "execution_count": null,
   "metadata": {},
   "outputs": [],
   "source": []
  },
  {
   "cell_type": "code",
   "execution_count": null,
   "metadata": {},
   "outputs": [],
   "source": []
  }
 ],
 "metadata": {
  "kernelspec": {
   "display_name": "Python 3",
   "language": "python",
   "name": "python3"
  },
  "language_info": {
   "codemirror_mode": {
    "name": "ipython",
    "version": 3
   },
   "file_extension": ".py",
   "mimetype": "text/x-python",
   "name": "python",
   "nbconvert_exporter": "python",
   "pygments_lexer": "ipython3",
   "version": "3.7.2"
  }
 },
 "nbformat": 4,
 "nbformat_minor": 2
}
